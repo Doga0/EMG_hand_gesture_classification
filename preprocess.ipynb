{
 "cells": [
  {
   "cell_type": "code",
   "execution_count": null,
   "metadata": {},
   "outputs": [],
   "source": [
    "import pandas as pd\n",
    "import json\n",
    "import matplotlib.pyplot as plt\n",
    "import numpy as np\n",
    "import os\n"
   ]
  },
  {
   "cell_type": "code",
   "execution_count": null,
   "metadata": {},
   "outputs": [],
   "source": [
    "df = pd.read_csv(\"label.csv\")"
   ]
  },
  {
   "cell_type": "code",
   "execution_count": null,
   "metadata": {},
   "outputs": [],
   "source": [
    "try:\n",
    "    df[\"label\"] = df[\"label\"].apply(json.loads)  \n",
    "except (json.JSONDecodeError, TypeError):\n",
    "    print(\"Error parsing the `label` column. Ensure the data is valid JSON.\")\n",
    "\n",
    "new_df = pd.DataFrame([item for sublist in df[\"label\"] for item in sublist])\n",
    "\n",
    "new_df[\"timeserieslabel\"] = new_df[\"timeserieslabels\"].apply(lambda x: x[0])\n",
    "\n",
    "new_df = new_df.drop(columns=[\"timeserieslabels\"])\n",
    "\n",
    "new_df"
   ]
  },
  {
   "cell_type": "code",
   "execution_count": null,
   "metadata": {},
   "outputs": [],
   "source": [
    "gest_arr = []  \n",
    "\n",
    "for _, row in new_df.iterrows():\n",
    "    label_file = f\".\\\\time_series\\\\{row['timeserieslabel']}.csv\"\n",
    "    \n",
    "    if os.path.exists(label_file):\n",
    "        gest_df = pd.read_csv(label_file)\n",
    "        \n",
    "        amp = gest_df[(gest_df[\"time\"] >= row[\"start\"]) & (gest_df[\"time\"] <= row[\"end\"])].copy()\n",
    "        \n",
    "        amp['label'] = row[\"timeserieslabel\"]\n",
    "        \n",
    "        gest_arr.append(amp)\n",
    "    else:\n",
    "        print(f\"File not found for label: {row['timeserieslabel']}\")\n",
    "\n",
    "final_df = pd.concat(gest_arr, ignore_index=True)\n",
    "\n",
    "final_df"
   ]
  },
  {
   "cell_type": "code",
   "execution_count": null,
   "metadata": {},
   "outputs": [],
   "source": [
    "final_df.to_csv(\"dataset.csv\", index=False)"
   ]
  },
  {
   "cell_type": "code",
   "execution_count": 3,
   "metadata": {},
   "outputs": [],
   "source": [
    "df = pd.read_csv(\"dataset.csv\")"
   ]
  },
  {
   "cell_type": "code",
   "execution_count": 5,
   "metadata": {},
   "outputs": [
    {
     "name": "stdout",
     "output_type": "stream",
     "text": [
      "<class 'pandas.core.frame.DataFrame'>\n",
      "RangeIndex: 268110 entries, 0 to 268109\n",
      "Data columns (total 3 columns):\n",
      " #   Column     Non-Null Count   Dtype  \n",
      "---  ------     --------------   -----  \n",
      " 0   time       268110 non-null  float64\n",
      " 1   amplitude  268110 non-null  int64  \n",
      " 2   label      268110 non-null  object \n",
      "dtypes: float64(1), int64(1), object(1)\n",
      "memory usage: 6.1+ MB\n"
     ]
    }
   ],
   "source": [
    "df.info()"
   ]
  }
 ],
 "metadata": {
  "kernelspec": {
   "display_name": "Python 3",
   "language": "python",
   "name": "python3"
  },
  "language_info": {
   "codemirror_mode": {
    "name": "ipython",
    "version": 3
   },
   "file_extension": ".py",
   "mimetype": "text/x-python",
   "name": "python",
   "nbconvert_exporter": "python",
   "pygments_lexer": "ipython3",
   "version": "3.12.6"
  }
 },
 "nbformat": 4,
 "nbformat_minor": 2
}
